{
 "cells": [
  {
   "cell_type": "code",
   "execution_count": 1,
   "metadata": {},
   "outputs": [],
   "source": [
    "import numpy as np\n",
    "import matplotlib.pyplot as plt\n",
    "import pandas as pd"
   ]
  },
  {
   "cell_type": "code",
   "execution_count": 2,
   "metadata": {},
   "outputs": [],
   "source": [
    "df = pd.read_csv(\"headbrain.csv\")"
   ]
  },
  {
   "cell_type": "code",
   "execution_count": 3,
   "metadata": {},
   "outputs": [
    {
     "name": "stdout",
     "output_type": "stream",
     "text": [
      "(237, 4)\n"
     ]
    }
   ],
   "source": [
    "print(df.shape)"
   ]
  },
  {
   "cell_type": "code",
   "execution_count": 4,
   "metadata": {},
   "outputs": [
    {
     "data": {
      "text/plain": [
       "Index(['Gender', 'Age Range', 'Head Size(cm^3)', 'Brain Weight(grams)'], dtype='object')"
      ]
     },
     "execution_count": 4,
     "metadata": {},
     "output_type": "execute_result"
    }
   ],
   "source": [
    "df.columns"
   ]
  },
  {
   "cell_type": "code",
   "execution_count": 5,
   "metadata": {},
   "outputs": [],
   "source": [
    "X = df['Head Size(cm^3)'].values\n",
    "Y = df['Brain Weight(grams)'].values\n"
   ]
  },
  {
   "cell_type": "code",
   "execution_count": 6,
   "metadata": {},
   "outputs": [
    {
     "name": "stdout",
     "output_type": "stream",
     "text": [
      "[4512 3738 4261 3777 4177 3585 3785 3559 3613 3982 3443 3993 3640 4208\n",
      " 3832 3876 3497 3466 3095 4424 3878 4046 3804 3710 4747 4423 4036 4022\n",
      " 3454 4175 3787 3796 4103 4161 4158 3814 3527 3748 3334 3492 3962 3505\n",
      " 4315 3804 3863 4034 4308 3165 3641 3644 3891 3793 4270 4063 4012 3458\n",
      " 3890 4166 3935 3669 3866 3393 4442 4253 3727 3329 3415 3372 4430 4381\n",
      " 4008 3858 4121 4057 3824 3394 3558 3362 3930 3835 3830 3856 3249 3577\n",
      " 3933 3850 3309 3406 3506 3907 4160 3318 3662 3899 3700 3779 3473 3490\n",
      " 3654 3478 3495 3834 3876 3661 3618 3648 4032 3399 3916 4430 3695 3524\n",
      " 3571 3594 3383 3499 3589 3900 4114 3937 3399 4200 4488 3614 4051 3782\n",
      " 3391 3124 4053 3582 3666 3532 4046 3667 2857 3436 3791 3302 3104 3171\n",
      " 3572 3530 3175 3438 3903 3899 3401 3267 3451 3090 3413 3323 3680 3439\n",
      " 3853 3156 3279 3707 4006 3269 3071 3779 3548 3292 3497 3082 3248 3358\n",
      " 3803 3566 3145 3503 3571 3724 3615 3203 3609 3561 3979 3533 3689 3158\n",
      " 4005 3181 3479 3642 3632 3069 3394 3703 3165 3354 3000 3687 3556 2773\n",
      " 3058 3344 3493 3297 3360 3228 3277 3851 3067 3692 3402 3995 3318 2720\n",
      " 2937 3580 2939 2989 3586 3156 3246 3170 3268 3389 3381 2864 3740 3479\n",
      " 3647 3716 3284 4204 3735 3218 3685 3704 3214 3394 3233 3352 3391]\n"
     ]
    },
    {
     "data": {
      "text/plain": [
       "3391"
      ]
     },
     "execution_count": 6,
     "metadata": {},
     "output_type": "execute_result"
    }
   ],
   "source": [
    "print(X)\n",
    "X[236]"
   ]
  },
  {
   "cell_type": "code",
   "execution_count": 7,
   "metadata": {},
   "outputs": [
    {
     "name": "stdout",
     "output_type": "stream",
     "text": [
      "[1530 1297 1335 1282 1590 1300 1400 1255 1355 1375 1340 1380 1355 1522\n",
      " 1208 1405 1358 1292 1340 1400 1357 1287 1275 1270 1635 1505 1490 1485\n",
      " 1310 1420 1318 1432 1364 1405 1432 1207 1375 1350 1236 1250 1350 1320\n",
      " 1525 1570 1340 1422 1506 1215 1311 1300 1224 1350 1335 1390 1400 1225\n",
      " 1310 1560 1330 1222 1415 1175 1330 1485 1470 1135 1310 1154 1510 1415\n",
      " 1468 1390 1380 1432 1240 1195 1225 1188 1252 1315 1245 1430 1279 1245\n",
      " 1309 1412 1120 1220 1280 1440 1370 1192 1230 1346 1290 1165 1240 1132\n",
      " 1242 1270 1218 1430 1588 1320 1290 1260 1425 1226 1360 1620 1310 1250\n",
      " 1295 1290 1290 1275 1250 1270 1362 1300 1173 1256 1440 1180 1306 1350\n",
      " 1125 1165 1312 1300 1270 1335 1450 1310 1027 1235 1260 1165 1080 1127\n",
      " 1270 1252 1200 1290 1334 1380 1140 1243 1340 1168 1322 1249 1321 1192\n",
      " 1373 1170 1265 1235 1302 1241 1078 1520 1460 1075 1280 1180 1250 1190\n",
      " 1374 1306 1202 1240 1316 1280 1350 1180 1210 1127 1324 1210 1290 1100\n",
      " 1280 1175 1160 1205 1163 1022 1243 1350 1237 1204 1090 1355 1250 1076\n",
      " 1120 1220 1240 1220 1095 1235 1105 1405 1150 1305 1220 1296 1175  955\n",
      " 1070 1320 1060 1130 1250 1225 1180 1178 1142 1130 1185 1012 1280 1103\n",
      " 1408 1300 1246 1380 1350 1060 1350 1220 1110 1215 1104 1170 1120]\n"
     ]
    }
   ],
   "source": [
    "print(Y)"
   ]
  },
  {
   "cell_type": "code",
   "execution_count": 8,
   "metadata": {},
   "outputs": [],
   "source": [
    "mean_x = np.mean(X)\n",
    "mean_y = np.mean(Y)"
   ]
  },
  {
   "cell_type": "code",
   "execution_count": 9,
   "metadata": {},
   "outputs": [],
   "source": [
    "n = len(X)"
   ]
  },
  {
   "cell_type": "code",
   "execution_count": 10,
   "metadata": {},
   "outputs": [],
   "source": [
    "numerator = 0\n",
    "denomenator = 0"
   ]
  },
  {
   "cell_type": "code",
   "execution_count": 12,
   "metadata": {},
   "outputs": [
    {
     "name": "stdout",
     "output_type": "stream",
     "text": [
      "0.26342933948939945 325.57342104944223\n"
     ]
    }
   ],
   "source": [
    "for i in range(n):\n",
    "    numerator+= (X[i]-mean_x)*(Y[i]-mean_y)\n",
    "    denomenator+=(X[i]-mean_x)**2\n",
    "    \n",
    "m = numerator/denomenator\n",
    "c = mean_y - mean_x*m\n",
    "print(m,c)"
   ]
  },
  {
   "cell_type": "code",
   "execution_count": 13,
   "metadata": {},
   "outputs": [],
   "source": [
    "Min = np.min(X)\n",
    "Max = np.max(X)\n",
    "x = np.linspace(Min,Max,1000)\n"
   ]
  },
  {
   "cell_type": "code",
   "execution_count": 14,
   "metadata": {},
   "outputs": [
    {
     "name": "stdout",
     "output_type": "stream",
     "text": [
      "2720 4747\n"
     ]
    }
   ],
   "source": [
    "print(Min,Max)"
   ]
  },
  {
   "cell_type": "code",
   "execution_count": 15,
   "metadata": {},
   "outputs": [],
   "source": [
    "y = m*x+c"
   ]
  },
  {
   "cell_type": "code",
   "execution_count": 16,
   "metadata": {},
   "outputs": [
    {
     "data": {
      "image/png": "[encoded data removed]",
      "text/plain": [
       "<Figure size 432x288 with 1 Axes>"
      ]
     },
     "metadata": {
      "needs_background": "light"
     },
     "output_type": "display_data"
    }
   ],
   "source": [
    "plt.plot(x,y)\n",
    "plt.scatter(X,Y)\n",
    "plt.show()"
   ]
  },
  {
   "cell_type": "code",
   "execution_count": 17,
   "metadata": {},
   "outputs": [
    {
     "data": {
      "text/plain": [
       "0.6393117199570003"
      ]
     },
     "execution_count": 17,
     "metadata": {},
     "output_type": "execute_result"
    }
   ],
   "source": [
    "num = 0\n",
    "den = 0\n",
    "for i in range(n):\n",
    "    ypre = c+m*X[i]\n",
    "    num+=(Y[i]-ypre)**2\n",
    "    den+=(Y[i]-mean_y)**2\n",
    "\n",
    "rsquare = 1-(num/den)\n",
    "rsquare"
   ]
  },
  {
   "cell_type": "code",
   "execution_count": 85,
   "metadata": {},
   "outputs": [],
   "source": [
    "from sklearn.linear_model import LinearRegression\n",
    "model = LinearRegression()\n",
    "X = X.reshape(n,1)"
   ]
  },
  {
   "cell_type": "code",
   "execution_count": 86,
   "metadata": {},
   "outputs": [
    {
     "data": {
      "text/plain": [
       "LinearRegression(copy_X=True, fit_intercept=True, n_jobs=None, normalize=False)"
      ]
     },
     "execution_count": 86,
     "metadata": {},
     "output_type": "execute_result"
    }
   ],
   "source": [
    "model.fit(X,Y)"
   ]
  },
  {
   "cell_type": "code",
   "execution_count": 87,
   "metadata": {},
   "outputs": [],
   "source": [
    "ypre = model.predict(X)"
   ]
  },
  {
   "cell_type": "code",
   "execution_count": 91,
   "metadata": {},
   "outputs": [
    {
     "name": "stdout",
     "output_type": "stream",
     "text": [
      "[1514.16660083 1310.27229206 1448.04583661 1320.5460363  1425.9177721\n",
      " 1269.96760312 1322.65347102 1263.11844029 1277.34362462 1374.5490509\n",
      " 1232.56063691 1377.44677363 1284.45621679 1434.08408162 1335.03464997\n",
      " 1346.62554091 1246.78582124 1238.61951172 1140.88722677 1490.98481895\n",
      " 1347.15239959 1391.40852862 1327.65862847 1302.89627056 1576.07249561\n",
      " 1490.72138961 1388.77423523 1385.08622448 1235.45835965 1425.39091342\n",
      " 1323.1803297  1325.55119375 1406.42400097 1421.70290266 1420.91261465\n",
      " 1330.29292186 1254.68870143 1312.90658546 1203.84683891 1245.46867455\n",
      " 1369.28046411 1248.89325596 1462.27102095 1327.65862847 1343.2009595\n",
      " 1388.24737655 1460.42701557 1159.32728053 1284.71964613 1285.50993415\n",
      " 1350.576981   1324.76090573 1450.41670067 1395.88682739 1382.45193108\n",
      " 1236.512077   1350.31355166 1423.02004936 1362.16787194 1292.09566764\n",
      " 1343.99124752 1219.38916994 1495.72654706 1445.9384019  1307.37456933\n",
      " 1202.52969221 1225.18461541 1213.85715381 1492.56539499 1479.65735735\n",
      " 1381.39821372 1341.8838128  1411.16572909 1394.30625136 1332.92721526\n",
      " 1219.65259928 1262.85501095 1211.22286041 1360.85072524 1335.82493799\n",
      " 1334.50779129 1341.35695412 1181.45534505 1267.8601684  1361.64101326\n",
      " 1339.77637808 1197.26110542 1222.81375135 1249.1566853  1354.79185043\n",
      " 1421.43947333 1199.63196948 1290.25166226 1352.68441572 1300.26197716\n",
      " 1321.07289498 1240.4635171  1244.94181587 1288.14422754 1241.78066379\n",
      " 1246.25896256 1335.56150865 1346.62554091 1289.98823292 1278.66077132\n",
      " 1286.56365151 1387.72051787 1220.96974597 1357.16271449 1492.56539499\n",
      " 1298.94483046 1253.89841341 1266.27959237 1272.33846717 1216.75487654\n",
      " 1247.31267992 1271.02132048 1352.94784506 1409.32172371 1362.69473062\n",
      " 1220.96974597 1431.9766469  1507.84429668 1277.60705396 1392.72567532\n",
      " 1321.863183   1218.86231126 1148.52667761 1393.252534   1269.1773151\n",
      " 1291.30537962 1256.00584813 1391.40852862 1291.56880896 1078.19104397\n",
      " 1230.71663154 1324.23404705 1195.41710004 1143.25809082 1160.90785657\n",
      " 1266.54302171 1255.47898945 1161.96157393 1231.24349021 1353.73813308\n",
      " 1352.68441572 1221.49660465 1186.19707316 1234.66807163 1139.57008007\n",
      " 1224.65775673 1200.94911617 1294.99339037 1231.50691955 1340.5666661\n",
      " 1156.95641648 1189.35822524 1302.10598254 1380.87135504 1186.72393184\n",
      " 1134.56492262 1321.07289498 1260.22071756 1192.78280665 1246.78582124\n",
      " 1137.46264536 1181.19191571 1210.16914305 1327.39519913 1264.96244567\n",
      " 1154.05869374 1248.36639728 1266.27959237 1306.58428131 1277.8704833\n",
      " 1169.33759543 1276.28990727 1263.64529897 1373.75876288 1256.26927747\n",
      " 1297.36425443 1157.48327516 1380.6079257  1163.54214997 1242.04409313\n",
      " 1284.98307547 1282.34878207 1134.03806394 1219.65259928 1301.05226518\n",
      " 1159.32728053 1209.1154257  1115.86143952 1296.83739575 1262.32815227\n",
      " 1056.06297945 1131.14034121 1206.4811323  1245.73210389 1194.09995335\n",
      " 1210.69600173 1175.92332892 1188.83136656 1340.03980742 1133.51120526\n",
      " 1298.15454244 1221.76003399 1377.97363231 1199.63196948 1042.10122446\n",
      " 1099.26539113 1268.65045642 1099.79224981 1112.96371678 1270.23103246\n",
      " 1156.95641648 1180.66505703 1160.64442723 1186.4605025  1218.33545258\n",
      " 1216.22801786 1080.03504935 1310.79915074 1242.04409313 1286.30022217\n",
      " 1304.47684659 1190.67537193 1433.03036426 1309.48200404 1173.28903553\n",
      " 1296.31053707 1301.31569452 1172.23531817 1219.65259928 1177.24047562\n",
      " 1208.58856702 1218.86231126]\n"
     ]
    }
   ],
   "source": [
    "print(ypre)"
   ]
  },
  {
   "cell_type": "code",
   "execution_count": 92,
   "metadata": {},
   "outputs": [
    {
     "name": "stdout",
     "output_type": "stream",
     "text": [
      "0.639311719957\n"
     ]
    }
   ],
   "source": [
    "print(model.score(X,Y))"
   ]
  },
  {
   "cell_type": "code",
   "execution_count": null,
   "metadata": {},
   "outputs": [],
   "source": []
  }
 ],
 "metadata": {
  "kernelspec": {
   "display_name": "Python 3",
   "language": "python",
   "name": "python3"
  },
  "language_info": {
   "codemirror_mode": {
    "name": "ipython",
    "version": 3
   },
   "file_extension": ".py",
   "mimetype": "text/x-python",
   "name": "python",
   "nbconvert_exporter": "python",
   "pygments_lexer": "ipython3",
   "version": "3.7.3"
  }
 },
 "nbformat": 4,
 "nbformat_minor": 4
}
